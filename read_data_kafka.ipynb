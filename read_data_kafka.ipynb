{
 "cells": [
  {
   "cell_type": "code",
   "execution_count": 1,
   "metadata": {},
   "outputs": [],
   "source": [
    "from pyspark.sql import SparkSession\n",
    "from pyspark.sql.functions import explode\n",
    "from pyspark.sql.functions import split\n",
    "\n",
    "\n",
    "spark = SparkSession \\\n",
    "    .builder \\\n",
    "    .appName(\"velib-stream\") \\\n",
    "    .getOrCreate()"
   ]
  },
  {
   "cell_type": "code",
   "execution_count": 2,
   "metadata": {},
   "outputs": [],
   "source": [
    "velib_json = (\n",
    "    spark.read\n",
    "    #.schema(velib_schema)\n",
    "    .json(\"hdfs://pi1:9000/station_status.json\")\n",
    ")"
   ]
  },
  {
   "cell_type": "code",
   "execution_count": 3,
   "metadata": {},
   "outputs": [
    {
     "name": "stdout",
     "output_type": "stream",
     "text": [
      "root\n",
      " |-- data: struct (nullable = true)\n",
      " |    |-- stations: array (nullable = true)\n",
      " |    |    |-- element: struct (containsNull = true)\n",
      " |    |    |    |-- is_installed: long (nullable = true)\n",
      " |    |    |    |-- is_renting: long (nullable = true)\n",
      " |    |    |    |-- is_returning: long (nullable = true)\n",
      " |    |    |    |-- last_reported: long (nullable = true)\n",
      " |    |    |    |-- numBikesAvailable: long (nullable = true)\n",
      " |    |    |    |-- numDocksAvailable: long (nullable = true)\n",
      " |    |    |    |-- num_bikes_available: long (nullable = true)\n",
      " |    |    |    |-- num_bikes_available_types: array (nullable = true)\n",
      " |    |    |    |    |-- element: struct (containsNull = true)\n",
      " |    |    |    |    |    |-- ebike: long (nullable = true)\n",
      " |    |    |    |    |    |-- mechanical: long (nullable = true)\n",
      " |    |    |    |-- num_docks_available: long (nullable = true)\n",
      " |    |    |    |-- stationCode: string (nullable = true)\n",
      " |    |    |    |-- station_id: long (nullable = true)\n",
      " |-- lastUpdatedOther: long (nullable = true)\n",
      " |-- ttl: long (nullable = true)\n",
      "\n",
      "+--------------------+----------------+----+\n",
      "|                data|lastUpdatedOther| ttl|\n",
      "+--------------------+----------------+----+\n",
      "|[[[1, 1, 1, 16087...|      1608703953|3600|\n",
      "+--------------------+----------------+----+\n",
      "\n"
     ]
    }
   ],
   "source": [
    "import pyspark.sql\n",
    "import pyspark\n",
    "from pyspark.sql import functions as F\n",
    "velib_json.printSchema()\n",
    "velib_json.show(1,truncate=True)"
   ]
  },
  {
   "cell_type": "code",
   "execution_count": 4,
   "metadata": {},
   "outputs": [
    {
     "name": "stdout",
     "output_type": "stream",
     "text": [
      "+---------------------------------------------------------------------+\n",
      "|data                                                                 |\n",
      "+---------------------------------------------------------------------+\n",
      "|[1, 1, 1, 1608703580, 9, 25, 9, [[, 2], [7,]], 25, 16107, 213688169] |\n",
      "|[1, 1, 1, 1608703854, 38, 16, 38, [[, 33], [5,]], 16, 6015, 99950133]|\n",
      "+---------------------------------------------------------------------+\n",
      "only showing top 2 rows\n",
      "\n",
      "root\n",
      " |-- data: struct (nullable = true)\n",
      " |    |-- is_installed: long (nullable = true)\n",
      " |    |-- is_renting: long (nullable = true)\n",
      " |    |-- is_returning: long (nullable = true)\n",
      " |    |-- last_reported: long (nullable = true)\n",
      " |    |-- numBikesAvailable: long (nullable = true)\n",
      " |    |-- numDocksAvailable: long (nullable = true)\n",
      " |    |-- num_bikes_available: long (nullable = true)\n",
      " |    |-- num_bikes_available_types: array (nullable = true)\n",
      " |    |    |-- element: struct (containsNull = true)\n",
      " |    |    |    |-- ebike: long (nullable = true)\n",
      " |    |    |    |-- mechanical: long (nullable = true)\n",
      " |    |-- num_docks_available: long (nullable = true)\n",
      " |    |-- stationCode: string (nullable = true)\n",
      " |    |-- station_id: long (nullable = true)\n",
      "\n",
      "+----------+-------------------+-------------------+-------------------+------------------------+-----------+\n",
      "|station_id|num_docks_available|num_bikes_available|num_ebike_available|num_mechanical_available|stationCode|\n",
      "+----------+-------------------+-------------------+-------------------+------------------------+-----------+\n",
      "|213688169 |25                 |9                  |7                  |2                       |16107      |\n",
      "|99950133  |16                 |38                 |5                  |33                      |6015       |\n",
      "|516709288 |13                 |7                  |5                  |2                       |11104      |\n",
      "+----------+-------------------+-------------------+-------------------+------------------------+-----------+\n",
      "only showing top 3 rows\n",
      "\n",
      "root\n",
      " |-- station_id: long (nullable = true)\n",
      " |-- num_docks_available: long (nullable = true)\n",
      " |-- num_bikes_available: long (nullable = true)\n",
      " |-- num_ebike_available: long (nullable = true)\n",
      " |-- num_mechanical_available: long (nullable = true)\n",
      " |-- stationCode: string (nullable = true)\n",
      "\n"
     ]
    }
   ],
   "source": [
    "velib_format = (\n",
    "    velib_json.select(\n",
    "        F.explode(velib_json.data.stations).alias(\"data\"),\n",
    "    ) \n",
    ")\n",
    "\n",
    "velib_format.show(2,truncate = False)\n",
    "velib_format.printSchema()\n",
    "\n",
    "velib_format= (\n",
    "    velib_format  \n",
    "    .select(\n",
    "        velib_format.data.station_id.alias(\"station_id\"),\n",
    "        velib_format.data.num_docks_available.alias(\"num_docks_available\"),\n",
    "        velib_format.data.num_bikes_available.alias(\"num_bikes_available\"),\n",
    "        velib_format.data.num_bikes_available_types.ebike[1].alias(\"num_ebike_available\"),\n",
    "        velib_format.data.num_bikes_available_types.mechanical[0].alias(\"num_mechanical_available\"),\n",
    "        velib_format.data.stationCode.alias(\"stationCode\"),\n",
    "    )\n",
    "\n",
    ")\n",
    "\n",
    "velib_format.show(3,truncate = False)\n",
    "velib_format.printSchema()"
   ]
  },
  {
   "cell_type": "code",
   "execution_count": 8,
   "metadata": {},
   "outputs": [],
   "source": [
    "velib_format.write \\\n",
    "  .format(\"com.databricks.spark.csv\") \\\n",
    "  .option(\"header\", \"false\")\\\n",
    "  .save(\"hdfs://pi1:9000/velib-data\")"
   ]
  },
  {
   "cell_type": "code",
   "execution_count": 2,
   "metadata": {},
   "outputs": [],
   "source": [
    "from pyspark.sql import SparkSession\n",
    "from pyspark.sql.functions import explode\n",
    "from pyspark.sql.functions import split\n",
    "\n",
    "spark_kafka = (\n",
    "    SparkSession.builder \n",
    "    .appName(\"spark_kafka\") \n",
    "    .config(\"spark.jars.packages\", \"org.apache.spark:spark-sql-kafka-0-10_2.12:3.0.1\") \n",
    "    .getOrCreate()\n",
    "    )\n"
   ]
  },
  {
   "cell_type": "code",
   "execution_count": 33,
   "metadata": {},
   "outputs": [],
   "source": [
    "from pyspark.sql.types import *\n",
    "\n",
    "velib_schema = StructType([\n",
    "  StructField(\"data\", StructType([\n",
    "      StructField(\"stations\",ArrayType(\n",
    "          StructType([\n",
    "              StructField(\"is_instaled\",BooleanType()),\n",
    "              StructField(\"is_renting\",BooleanType()),\n",
    "              StructField(\"is_returning\",BooleanType()),\n",
    "              StructField(\"last_reported\",IntegerType()),\n",
    "              StructField(\"numBikesAvailable\",IntegerType()),\n",
    "              StructField(\"numDocksAvailable\",IntegerType()),\n",
    "              StructField(\"numBikesAvailable\",IntegerType()),\n",
    "              StructField(\"num_bikes_available\",IntegerType()),\n",
    "              StructField(\"num_bikes_available_types\",ArrayType(\n",
    "                  StructType([\n",
    "                      StructField(\"ebike\",IntegerType()),\n",
    "                      StructField(\"mechanical\",IntegerType()),\n",
    "                  ])\n",
    "              )),\n",
    "              StructField(\"num_docks_available\",IntegerType()),\n",
    "              StructField(\"station_id\",IntegerType())\n",
    "          ])\n",
    "      ))\n",
    "  ])),\n",
    "  StructField(\"lastUpdatedOther\",IntegerType()),\n",
    "  StructField(\"ttl\",IntegerType())\n",
    "])"
   ]
  },
  {
   "cell_type": "code",
   "execution_count": 24,
   "metadata": {},
   "outputs": [
    {
     "name": "stdout",
     "output_type": "stream",
     "text": [
      "root\n",
      " |-- key: binary (nullable = true)\n",
      " |-- value: binary (nullable = true)\n",
      " |-- topic: string (nullable = true)\n",
      " |-- partition: integer (nullable = true)\n",
      " |-- offset: long (nullable = true)\n",
      " |-- timestamp: timestamp (nullable = true)\n",
      " |-- timestampType: integer (nullable = true)\n",
      "\n"
     ]
    }
   ],
   "source": [
    "from pyspark.sql import functions as F\n",
    "import json\n",
    "df =( spark_kafka.readStream\n",
    "        .format(\"kafka\")\n",
    "        .option(\"kafka.bootstrap.servers\", \"pi1:9092\")\n",
    "        .option(\"subscribe\", \"velib-data\")\n",
    "        .option(\"startingOffsets\", \"earliest\")\n",
    "        .load()\n",
    "    )\n",
    "\n",
    "df.printSchema()\n",
    "velib_json = df.selectExpr(\"CAST(value AS STRING)\")\n",
    "\n",
    "velib_format = velib_json.select(F.from_json(F.col(\"value\"),velib_schema).alias(\"data\")).select(\"data.*\")"
   ]
  }
 ],
 "metadata": {
  "kernelspec": {
   "display_name": "Python 3",
   "language": "python",
   "name": "python3"
  },
  "language_info": {
   "codemirror_mode": {
    "name": "ipython",
    "version": 3
   },
   "file_extension": ".py",
   "mimetype": "text/x-python",
   "name": "python",
   "nbconvert_exporter": "python",
   "pygments_lexer": "ipython3",
   "version": "3.7.3"
  }
 },
 "nbformat": 4,
 "nbformat_minor": 4
}
